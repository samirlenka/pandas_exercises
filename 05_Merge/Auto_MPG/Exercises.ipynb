{
  "nbformat": 4,
  "nbformat_minor": 0,
  "metadata": {
    "anaconda-cloud": {},
    "kernelspec": {
      "name": "python3",
      "display_name": "Python 3"
    },
    "colab": {
      "name": "Exercises.ipynb",
      "provenance": [],
      "include_colab_link": true
    },
    "language_info": {
      "name": "python"
    }
  },
  "cells": [
    {
      "cell_type": "markdown",
      "metadata": {
        "id": "view-in-github",
        "colab_type": "text"
      },
      "source": [
        "<a href=\"https://colab.research.google.com/github/samirlenka/pandas_exercises/blob/master/05_Merge/Auto_MPG/Exercises.ipynb\" target=\"_parent\"><img src=\"https://colab.research.google.com/assets/colab-badge.svg\" alt=\"Open In Colab\"/></a>"
      ]
    },
    {
      "cell_type": "markdown",
      "metadata": {
        "id": "cgw59kEiZ65A"
      },
      "source": [
        "# MPG Cars"
      ]
    },
    {
      "cell_type": "markdown",
      "metadata": {
        "id": "peDrjVVUZ65I"
      },
      "source": [
        "### Introduction:\n",
        "\n",
        "The following exercise utilizes data from [UC Irvine Machine Learning Repository](https://archive.ics.uci.edu/ml/datasets/Auto+MPG)\n",
        "\n",
        "### Step 1. Import the necessary libraries"
      ]
    },
    {
      "cell_type": "code",
      "metadata": {
        "id": "ivL3RcpaZ65K"
      },
      "source": [
        "import pandas as pd\n",
        "import numpy as np"
      ],
      "execution_count": 1,
      "outputs": []
    },
    {
      "cell_type": "markdown",
      "metadata": {
        "id": "wh_bRe6BZ65M"
      },
      "source": [
        "### Step 2. Import the first dataset [cars1](https://raw.githubusercontent.com/guipsamora/pandas_exercises/master/05_Merge/Auto_MPG/cars1.csv) and [cars2](https://raw.githubusercontent.com/guipsamora/pandas_exercises/master/05_Merge/Auto_MPG/cars2.csv).  "
      ]
    },
    {
      "cell_type": "markdown",
      "metadata": {
        "id": "XGVL0eEEZ65O"
      },
      "source": [
        "   ### Step 3. Assign each to a variable called cars1 and cars2"
      ]
    },
    {
      "cell_type": "code",
      "metadata": {
        "id": "WSUkZXXbZ65P",
        "outputId": "6a66462a-6d47-4b21-cac3-9330c1a3f949",
        "colab": {
          "base_uri": "https://localhost:8080/",
          "height": 204
        }
      },
      "source": [
        "cars1 = pd.read_csv('https://raw.githubusercontent.com/guipsamora/pandas_exercises/master/05_Merge/Auto_MPG/cars1.csv')\n",
        "cars2 = pd.read_csv('https://raw.githubusercontent.com/guipsamora/pandas_exercises/master/05_Merge/Auto_MPG/cars2.csv')\n",
        "cars1.head(5)\n",
        "cars2.head(5)"
      ],
      "execution_count": 2,
      "outputs": [
        {
          "output_type": "execute_result",
          "data": {
            "text/html": [
              "<div>\n",
              "<style scoped>\n",
              "    .dataframe tbody tr th:only-of-type {\n",
              "        vertical-align: middle;\n",
              "    }\n",
              "\n",
              "    .dataframe tbody tr th {\n",
              "        vertical-align: top;\n",
              "    }\n",
              "\n",
              "    .dataframe thead th {\n",
              "        text-align: right;\n",
              "    }\n",
              "</style>\n",
              "<table border=\"1\" class=\"dataframe\">\n",
              "  <thead>\n",
              "    <tr style=\"text-align: right;\">\n",
              "      <th></th>\n",
              "      <th>mpg</th>\n",
              "      <th>cylinders</th>\n",
              "      <th>displacement</th>\n",
              "      <th>horsepower</th>\n",
              "      <th>weight</th>\n",
              "      <th>acceleration</th>\n",
              "      <th>model</th>\n",
              "      <th>origin</th>\n",
              "      <th>car</th>\n",
              "    </tr>\n",
              "  </thead>\n",
              "  <tbody>\n",
              "    <tr>\n",
              "      <th>0</th>\n",
              "      <td>33.0</td>\n",
              "      <td>4</td>\n",
              "      <td>91</td>\n",
              "      <td>53</td>\n",
              "      <td>1795</td>\n",
              "      <td>17.4</td>\n",
              "      <td>76</td>\n",
              "      <td>3</td>\n",
              "      <td>honda civic</td>\n",
              "    </tr>\n",
              "    <tr>\n",
              "      <th>1</th>\n",
              "      <td>20.0</td>\n",
              "      <td>6</td>\n",
              "      <td>225</td>\n",
              "      <td>100</td>\n",
              "      <td>3651</td>\n",
              "      <td>17.7</td>\n",
              "      <td>76</td>\n",
              "      <td>1</td>\n",
              "      <td>dodge aspen se</td>\n",
              "    </tr>\n",
              "    <tr>\n",
              "      <th>2</th>\n",
              "      <td>18.0</td>\n",
              "      <td>6</td>\n",
              "      <td>250</td>\n",
              "      <td>78</td>\n",
              "      <td>3574</td>\n",
              "      <td>21.0</td>\n",
              "      <td>76</td>\n",
              "      <td>1</td>\n",
              "      <td>ford granada ghia</td>\n",
              "    </tr>\n",
              "    <tr>\n",
              "      <th>3</th>\n",
              "      <td>18.5</td>\n",
              "      <td>6</td>\n",
              "      <td>250</td>\n",
              "      <td>110</td>\n",
              "      <td>3645</td>\n",
              "      <td>16.2</td>\n",
              "      <td>76</td>\n",
              "      <td>1</td>\n",
              "      <td>pontiac ventura sj</td>\n",
              "    </tr>\n",
              "    <tr>\n",
              "      <th>4</th>\n",
              "      <td>17.5</td>\n",
              "      <td>6</td>\n",
              "      <td>258</td>\n",
              "      <td>95</td>\n",
              "      <td>3193</td>\n",
              "      <td>17.8</td>\n",
              "      <td>76</td>\n",
              "      <td>1</td>\n",
              "      <td>amc pacer d/l</td>\n",
              "    </tr>\n",
              "  </tbody>\n",
              "</table>\n",
              "</div>"
            ],
            "text/plain": [
              "    mpg  cylinders  displacement  ... model  origin                 car\n",
              "0  33.0          4            91  ...    76       3         honda civic\n",
              "1  20.0          6           225  ...    76       1      dodge aspen se\n",
              "2  18.0          6           250  ...    76       1   ford granada ghia\n",
              "3  18.5          6           250  ...    76       1  pontiac ventura sj\n",
              "4  17.5          6           258  ...    76       1       amc pacer d/l\n",
              "\n",
              "[5 rows x 9 columns]"
            ]
          },
          "metadata": {
            "tags": []
          },
          "execution_count": 2
        }
      ]
    },
    {
      "cell_type": "markdown",
      "metadata": {
        "id": "W3X5F9pkZ65P"
      },
      "source": [
        "### Step 4. Oops, it seems our first dataset has some unnamed blank columns, fix cars1"
      ]
    },
    {
      "cell_type": "code",
      "metadata": {
        "id": "e_YWRDiAZ65Q",
        "outputId": "5f921a04-4ef8-4973-bd4b-172e48d34231",
        "colab": {
          "base_uri": "https://localhost:8080/",
          "height": 204
        }
      },
      "source": [
        "cars1 = cars1.loc[:, 'mpg':'car']\n",
        "cars1.head(5)"
      ],
      "execution_count": 3,
      "outputs": [
        {
          "output_type": "execute_result",
          "data": {
            "text/html": [
              "<div>\n",
              "<style scoped>\n",
              "    .dataframe tbody tr th:only-of-type {\n",
              "        vertical-align: middle;\n",
              "    }\n",
              "\n",
              "    .dataframe tbody tr th {\n",
              "        vertical-align: top;\n",
              "    }\n",
              "\n",
              "    .dataframe thead th {\n",
              "        text-align: right;\n",
              "    }\n",
              "</style>\n",
              "<table border=\"1\" class=\"dataframe\">\n",
              "  <thead>\n",
              "    <tr style=\"text-align: right;\">\n",
              "      <th></th>\n",
              "      <th>mpg</th>\n",
              "      <th>cylinders</th>\n",
              "      <th>displacement</th>\n",
              "      <th>horsepower</th>\n",
              "      <th>weight</th>\n",
              "      <th>acceleration</th>\n",
              "      <th>model</th>\n",
              "      <th>origin</th>\n",
              "      <th>car</th>\n",
              "    </tr>\n",
              "  </thead>\n",
              "  <tbody>\n",
              "    <tr>\n",
              "      <th>0</th>\n",
              "      <td>18.0</td>\n",
              "      <td>8</td>\n",
              "      <td>307</td>\n",
              "      <td>130</td>\n",
              "      <td>3504</td>\n",
              "      <td>12.0</td>\n",
              "      <td>70</td>\n",
              "      <td>1</td>\n",
              "      <td>chevrolet chevelle malibu</td>\n",
              "    </tr>\n",
              "    <tr>\n",
              "      <th>1</th>\n",
              "      <td>15.0</td>\n",
              "      <td>8</td>\n",
              "      <td>350</td>\n",
              "      <td>165</td>\n",
              "      <td>3693</td>\n",
              "      <td>11.5</td>\n",
              "      <td>70</td>\n",
              "      <td>1</td>\n",
              "      <td>buick skylark 320</td>\n",
              "    </tr>\n",
              "    <tr>\n",
              "      <th>2</th>\n",
              "      <td>18.0</td>\n",
              "      <td>8</td>\n",
              "      <td>318</td>\n",
              "      <td>150</td>\n",
              "      <td>3436</td>\n",
              "      <td>11.0</td>\n",
              "      <td>70</td>\n",
              "      <td>1</td>\n",
              "      <td>plymouth satellite</td>\n",
              "    </tr>\n",
              "    <tr>\n",
              "      <th>3</th>\n",
              "      <td>16.0</td>\n",
              "      <td>8</td>\n",
              "      <td>304</td>\n",
              "      <td>150</td>\n",
              "      <td>3433</td>\n",
              "      <td>12.0</td>\n",
              "      <td>70</td>\n",
              "      <td>1</td>\n",
              "      <td>amc rebel sst</td>\n",
              "    </tr>\n",
              "    <tr>\n",
              "      <th>4</th>\n",
              "      <td>17.0</td>\n",
              "      <td>8</td>\n",
              "      <td>302</td>\n",
              "      <td>140</td>\n",
              "      <td>3449</td>\n",
              "      <td>10.5</td>\n",
              "      <td>70</td>\n",
              "      <td>1</td>\n",
              "      <td>ford torino</td>\n",
              "    </tr>\n",
              "  </tbody>\n",
              "</table>\n",
              "</div>"
            ],
            "text/plain": [
              "    mpg  cylinders  displacement  ... model  origin                        car\n",
              "0  18.0          8           307  ...    70       1  chevrolet chevelle malibu\n",
              "1  15.0          8           350  ...    70       1          buick skylark 320\n",
              "2  18.0          8           318  ...    70       1         plymouth satellite\n",
              "3  16.0          8           304  ...    70       1              amc rebel sst\n",
              "4  17.0          8           302  ...    70       1                ford torino\n",
              "\n",
              "[5 rows x 9 columns]"
            ]
          },
          "metadata": {
            "tags": []
          },
          "execution_count": 3
        }
      ]
    },
    {
      "cell_type": "markdown",
      "metadata": {
        "id": "UR22xm6jZ65R"
      },
      "source": [
        "### Step 5. What is the number of observations in each dataset?"
      ]
    },
    {
      "cell_type": "code",
      "metadata": {
        "id": "b2oKZlSOZ65S",
        "outputId": "7a516221-26de-4d2e-f06c-22729e577f9d",
        "colab": {
          "base_uri": "https://localhost:8080/",
          "height": 238
        }
      },
      "source": [
        "display(cars1.shape)\n",
        "print(cars2.shape)\n",
        "cars2.tail(5)"
      ],
      "execution_count": 4,
      "outputs": [
        {
          "output_type": "display_data",
          "data": {
            "text/plain": [
              "(198, 9)"
            ]
          },
          "metadata": {
            "tags": []
          }
        },
        {
          "output_type": "stream",
          "text": [
            "(200, 9)\n"
          ],
          "name": "stdout"
        },
        {
          "output_type": "execute_result",
          "data": {
            "text/html": [
              "<div>\n",
              "<style scoped>\n",
              "    .dataframe tbody tr th:only-of-type {\n",
              "        vertical-align: middle;\n",
              "    }\n",
              "\n",
              "    .dataframe tbody tr th {\n",
              "        vertical-align: top;\n",
              "    }\n",
              "\n",
              "    .dataframe thead th {\n",
              "        text-align: right;\n",
              "    }\n",
              "</style>\n",
              "<table border=\"1\" class=\"dataframe\">\n",
              "  <thead>\n",
              "    <tr style=\"text-align: right;\">\n",
              "      <th></th>\n",
              "      <th>mpg</th>\n",
              "      <th>cylinders</th>\n",
              "      <th>displacement</th>\n",
              "      <th>horsepower</th>\n",
              "      <th>weight</th>\n",
              "      <th>acceleration</th>\n",
              "      <th>model</th>\n",
              "      <th>origin</th>\n",
              "      <th>car</th>\n",
              "    </tr>\n",
              "  </thead>\n",
              "  <tbody>\n",
              "    <tr>\n",
              "      <th>195</th>\n",
              "      <td>27.0</td>\n",
              "      <td>4</td>\n",
              "      <td>140</td>\n",
              "      <td>86</td>\n",
              "      <td>2790</td>\n",
              "      <td>15.6</td>\n",
              "      <td>82</td>\n",
              "      <td>1</td>\n",
              "      <td>ford mustang gl</td>\n",
              "    </tr>\n",
              "    <tr>\n",
              "      <th>196</th>\n",
              "      <td>44.0</td>\n",
              "      <td>4</td>\n",
              "      <td>97</td>\n",
              "      <td>52</td>\n",
              "      <td>2130</td>\n",
              "      <td>24.6</td>\n",
              "      <td>82</td>\n",
              "      <td>2</td>\n",
              "      <td>vw pickup</td>\n",
              "    </tr>\n",
              "    <tr>\n",
              "      <th>197</th>\n",
              "      <td>32.0</td>\n",
              "      <td>4</td>\n",
              "      <td>135</td>\n",
              "      <td>84</td>\n",
              "      <td>2295</td>\n",
              "      <td>11.6</td>\n",
              "      <td>82</td>\n",
              "      <td>1</td>\n",
              "      <td>dodge rampage</td>\n",
              "    </tr>\n",
              "    <tr>\n",
              "      <th>198</th>\n",
              "      <td>28.0</td>\n",
              "      <td>4</td>\n",
              "      <td>120</td>\n",
              "      <td>79</td>\n",
              "      <td>2625</td>\n",
              "      <td>18.6</td>\n",
              "      <td>82</td>\n",
              "      <td>1</td>\n",
              "      <td>ford ranger</td>\n",
              "    </tr>\n",
              "    <tr>\n",
              "      <th>199</th>\n",
              "      <td>31.0</td>\n",
              "      <td>4</td>\n",
              "      <td>119</td>\n",
              "      <td>82</td>\n",
              "      <td>2720</td>\n",
              "      <td>19.4</td>\n",
              "      <td>82</td>\n",
              "      <td>1</td>\n",
              "      <td>chevy s-10</td>\n",
              "    </tr>\n",
              "  </tbody>\n",
              "</table>\n",
              "</div>"
            ],
            "text/plain": [
              "      mpg  cylinders  displacement  ... model  origin              car\n",
              "195  27.0          4           140  ...    82       1  ford mustang gl\n",
              "196  44.0          4            97  ...    82       2        vw pickup\n",
              "197  32.0          4           135  ...    82       1    dodge rampage\n",
              "198  28.0          4           120  ...    82       1      ford ranger\n",
              "199  31.0          4           119  ...    82       1       chevy s-10\n",
              "\n",
              "[5 rows x 9 columns]"
            ]
          },
          "metadata": {
            "tags": []
          },
          "execution_count": 4
        }
      ]
    },
    {
      "cell_type": "markdown",
      "metadata": {
        "id": "2L66jm2lZ65T"
      },
      "source": [
        "### Step 6. Join cars1 and cars2 into a single DataFrame called cars"
      ]
    },
    {
      "cell_type": "code",
      "metadata": {
        "id": "BRuRdFMKZ65V",
        "outputId": "0c403d36-2acc-45e8-cb39-bd6466b8f657",
        "colab": {
          "base_uri": "https://localhost:8080/",
          "height": 204
        }
      },
      "source": [
        "cars = cars1.append(cars2)\n",
        "cars.head(5)\n",
        "cars.tail(5)\n",
        "#cars.shape"
      ],
      "execution_count": 11,
      "outputs": [
        {
          "output_type": "execute_result",
          "data": {
            "text/html": [
              "<div>\n",
              "<style scoped>\n",
              "    .dataframe tbody tr th:only-of-type {\n",
              "        vertical-align: middle;\n",
              "    }\n",
              "\n",
              "    .dataframe tbody tr th {\n",
              "        vertical-align: top;\n",
              "    }\n",
              "\n",
              "    .dataframe thead th {\n",
              "        text-align: right;\n",
              "    }\n",
              "</style>\n",
              "<table border=\"1\" class=\"dataframe\">\n",
              "  <thead>\n",
              "    <tr style=\"text-align: right;\">\n",
              "      <th></th>\n",
              "      <th>mpg</th>\n",
              "      <th>cylinders</th>\n",
              "      <th>displacement</th>\n",
              "      <th>horsepower</th>\n",
              "      <th>weight</th>\n",
              "      <th>acceleration</th>\n",
              "      <th>model</th>\n",
              "      <th>origin</th>\n",
              "      <th>car</th>\n",
              "    </tr>\n",
              "  </thead>\n",
              "  <tbody>\n",
              "    <tr>\n",
              "      <th>195</th>\n",
              "      <td>27.0</td>\n",
              "      <td>4</td>\n",
              "      <td>140</td>\n",
              "      <td>86</td>\n",
              "      <td>2790</td>\n",
              "      <td>15.6</td>\n",
              "      <td>82</td>\n",
              "      <td>1</td>\n",
              "      <td>ford mustang gl</td>\n",
              "    </tr>\n",
              "    <tr>\n",
              "      <th>196</th>\n",
              "      <td>44.0</td>\n",
              "      <td>4</td>\n",
              "      <td>97</td>\n",
              "      <td>52</td>\n",
              "      <td>2130</td>\n",
              "      <td>24.6</td>\n",
              "      <td>82</td>\n",
              "      <td>2</td>\n",
              "      <td>vw pickup</td>\n",
              "    </tr>\n",
              "    <tr>\n",
              "      <th>197</th>\n",
              "      <td>32.0</td>\n",
              "      <td>4</td>\n",
              "      <td>135</td>\n",
              "      <td>84</td>\n",
              "      <td>2295</td>\n",
              "      <td>11.6</td>\n",
              "      <td>82</td>\n",
              "      <td>1</td>\n",
              "      <td>dodge rampage</td>\n",
              "    </tr>\n",
              "    <tr>\n",
              "      <th>198</th>\n",
              "      <td>28.0</td>\n",
              "      <td>4</td>\n",
              "      <td>120</td>\n",
              "      <td>79</td>\n",
              "      <td>2625</td>\n",
              "      <td>18.6</td>\n",
              "      <td>82</td>\n",
              "      <td>1</td>\n",
              "      <td>ford ranger</td>\n",
              "    </tr>\n",
              "    <tr>\n",
              "      <th>199</th>\n",
              "      <td>31.0</td>\n",
              "      <td>4</td>\n",
              "      <td>119</td>\n",
              "      <td>82</td>\n",
              "      <td>2720</td>\n",
              "      <td>19.4</td>\n",
              "      <td>82</td>\n",
              "      <td>1</td>\n",
              "      <td>chevy s-10</td>\n",
              "    </tr>\n",
              "  </tbody>\n",
              "</table>\n",
              "</div>"
            ],
            "text/plain": [
              "      mpg  cylinders  displacement  ... model  origin              car\n",
              "195  27.0          4           140  ...    82       1  ford mustang gl\n",
              "196  44.0          4            97  ...    82       2        vw pickup\n",
              "197  32.0          4           135  ...    82       1    dodge rampage\n",
              "198  28.0          4           120  ...    82       1      ford ranger\n",
              "199  31.0          4           119  ...    82       1       chevy s-10\n",
              "\n",
              "[5 rows x 9 columns]"
            ]
          },
          "metadata": {
            "tags": []
          },
          "execution_count": 11
        }
      ]
    },
    {
      "cell_type": "markdown",
      "metadata": {
        "id": "TQ65KUjzZ65V"
      },
      "source": [
        "### Step 7. Oops, there is a column missing, called owners. Create a random number Series from 15,000 to 73,000."
      ]
    },
    {
      "cell_type": "code",
      "metadata": {
        "id": "h9si96qFZ65W",
        "outputId": "30e4f8b6-f5bd-4efb-dbb4-a901690ed776",
        "colab": {
          "base_uri": "https://localhost:8080/"
        }
      },
      "source": [
        "nr_owners = np.random.randint(low = 15000, high = 73001, size = 398, dtype='l') # dtype = long so represented as 'l' , if it is int then we have r=to represent as 'i' \n",
        "nr_owners"
      ],
      "execution_count": 12,
      "outputs": [
        {
          "output_type": "execute_result",
          "data": {
            "text/plain": [
              "array([35709, 51932, 54480, 44667, 55331, 47305, 54531, 69031, 49142,\n",
              "       40967, 58611, 30128, 41079, 27079, 70244, 65928, 17192, 40931,\n",
              "       22187, 29456, 34204, 57542, 64842, 51459, 23823, 51968, 43473,\n",
              "       21349, 58711, 53411, 38059, 17220, 26630, 40366, 59134, 47571,\n",
              "       56169, 18366, 21895, 17430, 28879, 31046, 33641, 36351, 36732,\n",
              "       29658, 69222, 22521, 45598, 63236, 39358, 42552, 46889, 33109,\n",
              "       53478, 56604, 55876, 15556, 42380, 46818, 70497, 32984, 64725,\n",
              "       58953, 59809, 53977, 56637, 71020, 19164, 59511, 32793, 28320,\n",
              "       31587, 41655, 55052, 40109, 34623, 44353, 53412, 43174, 63172,\n",
              "       55184, 40357, 63648, 30895, 57654, 20973, 50722, 44867, 18387,\n",
              "       66319, 63843, 68072, 31621, 47491, 53880, 25666, 39613, 69767,\n",
              "       48914, 52105, 60960, 32182, 68658, 66751, 61841, 33411, 31903,\n",
              "       54144, 18024, 23633, 19876, 22310, 67036, 28958, 16729, 30739,\n",
              "       39880, 38298, 64845, 57704, 53244, 52545, 23848, 20717, 53698,\n",
              "       64026, 54259, 39812, 30516, 63912, 72559, 38412, 34727, 49004,\n",
              "       29725, 56049, 52792, 50506, 21865, 27633, 63690, 51626, 59342,\n",
              "       68968, 70441, 28961, 61758, 42819, 53672, 33338, 62642, 15421,\n",
              "       62468, 62469, 46570, 20327, 29755, 55712, 46471, 19093, 33931,\n",
              "       62414, 16375, 67929, 55648, 38274, 48302, 23857, 62549, 18122,\n",
              "       69639, 42801, 18421, 39009, 38328, 50785, 57501, 51191, 48693,\n",
              "       51861, 36262, 72531, 66274, 49206, 25966, 34845, 63178, 31667,\n",
              "       57659, 34347, 72379, 19225, 18156, 22965, 17687, 25452, 35248,\n",
              "       33963, 40538, 26468, 42339, 22307, 36989, 53195, 63780, 59777,\n",
              "       24092, 66738, 24400, 65547, 36142, 42815, 46490, 65545, 71881,\n",
              "       58258, 16183, 63199, 64572, 26557, 62018, 28551, 47401, 35702,\n",
              "       49125, 68413, 28812, 43384, 53464, 44313, 45147, 63436, 68229,\n",
              "       32052, 65627, 24176, 50444, 40718, 27357, 49978, 63364, 31689,\n",
              "       63819, 55926, 62179, 65889, 30976, 39403, 52115, 15294, 33250,\n",
              "       28680, 61699, 53876, 60228, 18916, 15334, 59173, 63130, 51023,\n",
              "       46679, 42684, 37951, 21714, 50741, 16950, 19438, 19936, 33018,\n",
              "       62228, 59228, 64290, 60522, 28500, 22918, 69198, 21052, 52190,\n",
              "       62777, 27771, 36344, 54573, 20633, 68637, 21344, 28136, 25724,\n",
              "       47421, 65403, 56928, 32657, 56532, 47848, 48593, 65882, 20331,\n",
              "       56781, 32603, 42225, 67657, 60602, 16040, 70533, 31947, 17053,\n",
              "       33744, 25920, 64108, 53874, 43288, 46436, 47181, 49528, 40767,\n",
              "       63127, 15448, 23231, 18403, 39676, 41328, 66388, 40867, 56171,\n",
              "       30344, 30702, 70800, 47293, 21720, 65953, 43441, 27224, 37297,\n",
              "       62935, 54034, 58994, 50590, 38507, 26216, 61411, 16572, 72787,\n",
              "       51839, 36294, 51342, 36392, 68238, 40031, 46310, 42967, 60793,\n",
              "       20074, 41224, 34772, 70803, 52148, 68595, 39509, 17315, 39177,\n",
              "       62387, 45329, 25624, 31144, 53340, 56223, 29700, 47515, 39172,\n",
              "       47926, 52708, 32836, 61341, 15846, 50819, 32078, 29577, 47551,\n",
              "       67820, 32150, 50101, 54933, 23370, 44022, 28587, 22586, 40423,\n",
              "       53334, 45275, 37758, 19968, 68113, 22629, 56441, 36502, 58075,\n",
              "       21873, 43179])"
            ]
          },
          "metadata": {
            "tags": []
          },
          "execution_count": 12
        }
      ]
    },
    {
      "cell_type": "markdown",
      "metadata": {
        "id": "pBeIK1LKZ65X"
      },
      "source": [
        "### Step 8. Add the column owners to cars"
      ]
    },
    {
      "cell_type": "code",
      "metadata": {
        "id": "EG_6z4ksZ65Y",
        "outputId": "99e5ff8f-2df0-4974-9204-d1c8bef2bccd",
        "colab": {
          "base_uri": "https://localhost:8080/",
          "height": 204
        }
      },
      "source": [
        "cars['owners'] =  nr_owners\n",
        "cars.tail(5)"
      ],
      "execution_count": 13,
      "outputs": [
        {
          "output_type": "execute_result",
          "data": {
            "text/html": [
              "<div>\n",
              "<style scoped>\n",
              "    .dataframe tbody tr th:only-of-type {\n",
              "        vertical-align: middle;\n",
              "    }\n",
              "\n",
              "    .dataframe tbody tr th {\n",
              "        vertical-align: top;\n",
              "    }\n",
              "\n",
              "    .dataframe thead th {\n",
              "        text-align: right;\n",
              "    }\n",
              "</style>\n",
              "<table border=\"1\" class=\"dataframe\">\n",
              "  <thead>\n",
              "    <tr style=\"text-align: right;\">\n",
              "      <th></th>\n",
              "      <th>mpg</th>\n",
              "      <th>cylinders</th>\n",
              "      <th>displacement</th>\n",
              "      <th>horsepower</th>\n",
              "      <th>weight</th>\n",
              "      <th>acceleration</th>\n",
              "      <th>model</th>\n",
              "      <th>origin</th>\n",
              "      <th>car</th>\n",
              "      <th>owners</th>\n",
              "    </tr>\n",
              "  </thead>\n",
              "  <tbody>\n",
              "    <tr>\n",
              "      <th>195</th>\n",
              "      <td>27.0</td>\n",
              "      <td>4</td>\n",
              "      <td>140</td>\n",
              "      <td>86</td>\n",
              "      <td>2790</td>\n",
              "      <td>15.6</td>\n",
              "      <td>82</td>\n",
              "      <td>1</td>\n",
              "      <td>ford mustang gl</td>\n",
              "      <td>56441</td>\n",
              "    </tr>\n",
              "    <tr>\n",
              "      <th>196</th>\n",
              "      <td>44.0</td>\n",
              "      <td>4</td>\n",
              "      <td>97</td>\n",
              "      <td>52</td>\n",
              "      <td>2130</td>\n",
              "      <td>24.6</td>\n",
              "      <td>82</td>\n",
              "      <td>2</td>\n",
              "      <td>vw pickup</td>\n",
              "      <td>36502</td>\n",
              "    </tr>\n",
              "    <tr>\n",
              "      <th>197</th>\n",
              "      <td>32.0</td>\n",
              "      <td>4</td>\n",
              "      <td>135</td>\n",
              "      <td>84</td>\n",
              "      <td>2295</td>\n",
              "      <td>11.6</td>\n",
              "      <td>82</td>\n",
              "      <td>1</td>\n",
              "      <td>dodge rampage</td>\n",
              "      <td>58075</td>\n",
              "    </tr>\n",
              "    <tr>\n",
              "      <th>198</th>\n",
              "      <td>28.0</td>\n",
              "      <td>4</td>\n",
              "      <td>120</td>\n",
              "      <td>79</td>\n",
              "      <td>2625</td>\n",
              "      <td>18.6</td>\n",
              "      <td>82</td>\n",
              "      <td>1</td>\n",
              "      <td>ford ranger</td>\n",
              "      <td>21873</td>\n",
              "    </tr>\n",
              "    <tr>\n",
              "      <th>199</th>\n",
              "      <td>31.0</td>\n",
              "      <td>4</td>\n",
              "      <td>119</td>\n",
              "      <td>82</td>\n",
              "      <td>2720</td>\n",
              "      <td>19.4</td>\n",
              "      <td>82</td>\n",
              "      <td>1</td>\n",
              "      <td>chevy s-10</td>\n",
              "      <td>43179</td>\n",
              "    </tr>\n",
              "  </tbody>\n",
              "</table>\n",
              "</div>"
            ],
            "text/plain": [
              "      mpg  cylinders  displacement  ... origin              car  owners\n",
              "195  27.0          4           140  ...      1  ford mustang gl   56441\n",
              "196  44.0          4            97  ...      2        vw pickup   36502\n",
              "197  32.0          4           135  ...      1    dodge rampage   58075\n",
              "198  28.0          4           120  ...      1      ford ranger   21873\n",
              "199  31.0          4           119  ...      1       chevy s-10   43179\n",
              "\n",
              "[5 rows x 10 columns]"
            ]
          },
          "metadata": {
            "tags": []
          },
          "execution_count": 13
        }
      ]
    }
  ]
}